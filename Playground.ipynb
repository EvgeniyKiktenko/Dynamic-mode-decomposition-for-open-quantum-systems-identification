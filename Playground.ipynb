{
  "nbformat": 4,
  "nbformat_minor": 0,
  "metadata": {
    "kernelspec": {
      "display_name": "Python 3",
      "language": "python",
      "name": "python3"
    },
    "language_info": {
      "codemirror_mode": {
        "name": "ipython",
        "version": 3
      },
      "file_extension": ".py",
      "mimetype": "text/x-python",
      "name": "python",
      "nbconvert_exporter": "python",
      "pygments_lexer": "ipython3",
      "version": "3.7.2"
    },
    "colab": {
      "name": "Playground.ipynb",
      "provenance": []
    },
    "accelerator": "GPU"
  },
  "cells": [
    {
      "cell_type": "code",
      "metadata": {
        "id": "96cEPRvwQYm-",
        "colab_type": "code",
        "colab": {}
      },
      "source": [
        "!git clone 'https://github.com/LuchnikovI/Dynamic-mode-decomposition-for-open-quantum-systems-identification'\n",
        "%cd 'Dynamic-mode-decomposition-for-open-quantum-systems-identification'\n",
        "import tensorflow as tf\n",
        "import dmd"
      ],
      "execution_count": null,
      "outputs": []
    },
    {
      "cell_type": "code",
      "metadata": {
        "id": "DntRxK0WQbxa",
        "colab_type": "code",
        "colab": {
          "base_uri": "https://localhost:8080/",
          "height": 34
        },
        "outputId": "28470e7b-f4f7-4e3d-f0e3-03d3e5ab2f25"
      },
      "source": [
        "# random X tensor\n",
        "X_re = tf.random.normal((100, 100, 100), dtype=tf.float64)\n",
        "X_im = tf.random.normal((100, 100, 100), dtype=tf.float64)\n",
        "X = tf.complex(X_re, X_im)\n",
        "\n",
        "# random Y tensor\n",
        "Y_re = tf.random.normal((100, 100, 100), dtype=tf.float64)\n",
        "Y_im = tf.random.normal((100, 100, 100), dtype=tf.float64)\n",
        "Y = tf.complex(Y_re, Y_im)\n",
        "\n",
        "# dmd based transition matrix\n",
        "lmbd, right, left = dmd.dmd(X, Y)\n",
        "T_dmd = (right * lmbd) @ tf.linalg.adjoint(left)\n",
        "\n",
        "# pinv based transition matrix\n",
        "T = dmd.solve_regression(X, Y)\n",
        "\n",
        "# relative difference\n",
        "delta = tf.linalg.norm(T - T_dmd) / tf.linalg.norm(T + T_dmd)\n",
        "print(tf.abs(delta).numpy())"
      ],
      "execution_count": 3,
      "outputs": [
        {
          "output_type": "stream",
          "text": [
            "1.2042338959885801e-14\n"
          ],
          "name": "stdout"
        }
      ]
    }
  ]
}