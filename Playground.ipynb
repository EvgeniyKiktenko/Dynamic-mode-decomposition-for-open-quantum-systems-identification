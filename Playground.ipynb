{
 "cells": [
  {
   "cell_type": "code",
   "execution_count": 3,
   "metadata": {},
   "outputs": [
    {
     "name": "stdout",
     "output_type": "stream",
     "text": [
      "Cloning into 'Dynamic-mode-decomposition-for-open-quantum-systems-identification'...\n",
      "remote: Enumerating objects: 22, done.\u001b[K\n",
      "remote: Counting objects: 100% (22/22), done.\u001b[K\n",
      "remote: Compressing objects: 100% (18/18), done.\u001b[K\n",
      "remote: Total 22 (delta 7), reused 12 (delta 4), pack-reused 0\u001b[K\n",
      "Unpacking objects: 100% (22/22), done.\n",
      "/Users/ilalucnikov/Documents/GitHub/Dynamic-mode-decomposition-for-open-quantum-systems-identification/Dynamic-mode-decomposition-for-open-quantum-systems-identification\n"
     ]
    }
   ],
   "source": [
    "!git clone 'https://github.com/LuchnikovI/Dynamic-mode-decomposition-for-open-quantum-systems-identification'\n",
    "%cd 'Dynamic-mode-decomposition-for-open-quantum-systems-identification'\n",
    "import tensorflow as tf\n",
    "import dmd"
   ]
  }
 ],
 "metadata": {
  "kernelspec": {
   "display_name": "Python 3",
   "language": "python",
   "name": "python3"
  },
  "language_info": {
   "codemirror_mode": {
    "name": "ipython",
    "version": 3
   },
   "file_extension": ".py",
   "mimetype": "text/x-python",
   "name": "python",
   "nbconvert_exporter": "python",
   "pygments_lexer": "ipython3",
   "version": "3.7.2"
  }
 },
 "nbformat": 4,
 "nbformat_minor": 4
}
